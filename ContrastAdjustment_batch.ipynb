{
 "cells": [
  {
   "cell_type": "code",
   "execution_count": null,
   "id": "b51cc0fd",
   "metadata": {},
   "outputs": [],
   "source": [
    "import cv2\n",
    "import numpy as np\n",
    "from tqdm import tqdm\n",
    "import matplotlib.pyplot as plt\n",
    "import multiprocessing\n",
    "import ce_module as ce \n",
    "import os \n",
    "import glob"
   ]
  },
  {
   "cell_type": "code",
   "execution_count": null,
   "id": "0b75f49e",
   "metadata": {},
   "outputs": [],
   "source": [
    "behav_cam_directory = r'D:\\\\JJM\\\\OpenFieldData\\\\06212023\\\\CC02558091\\\\_1\\\\'\n",
    "file_ends_with = '_winvideo_c922 Pro Stream Webcam_3.avi'"
   ]
  },
  {
   "cell_type": "code",
   "execution_count": null,
   "id": "fd5950ff",
   "metadata": {},
   "outputs": [],
   "source": [
    "file_list = [behav_cam_directory+f for f in os.listdir(behav_cam_directory) if f.endswith(file_ends_with)]"
   ]
  },
  {
   "cell_type": "code",
   "execution_count": null,
   "id": "0bf65ff2",
   "metadata": {
    "scrolled": false
   },
   "outputs": [],
   "source": [
    "for path_to_movie in file_list:\n",
    "    print('loading and converting movie to grayscale')\n",
    "    grayscale_frames = ce.load_and_convert_movie(path_to_movie)\n",
    "    plt.imshow(grayscale_frames[2], cmap='gray')\n",
    "    plt.show()\n",
    "\n",
    "    print('saving results')\n",
    "    normalized_results = ce.save_grayscale_movie(grayscale_frames, path_to_movie)\n",
    "\n",
    "\n",
    "    print('enhancing contrast')\n",
    "    ce_frames_hist  = ce.auto_contrast_adjustment_eqhist(grayscale_frames)\n",
    "\n",
    "    print('saving results')\n",
    "    normalized_frames = ce.save_contrast_enhanced_movie(ce_frames_hist, path_to_movie)"
   ]
  },
  {
   "cell_type": "code",
   "execution_count": null,
   "id": "2d461778",
   "metadata": {},
   "outputs": [],
   "source": []
  }
 ],
 "metadata": {
  "kernelspec": {
   "display_name": "2pCNMFEAnalysisEnv",
   "language": "python",
   "name": "2pcnmfeanalysisenv"
  },
  "language_info": {
   "codemirror_mode": {
    "name": "ipython",
    "version": 3
   },
   "file_extension": ".py",
   "mimetype": "text/x-python",
   "name": "python",
   "nbconvert_exporter": "python",
   "pygments_lexer": "ipython3",
   "version": "3.10.4"
  }
 },
 "nbformat": 4,
 "nbformat_minor": 5
}
