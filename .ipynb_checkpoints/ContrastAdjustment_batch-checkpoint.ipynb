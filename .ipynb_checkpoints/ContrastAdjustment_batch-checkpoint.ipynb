{
 "cells": [
  {
   "cell_type": "code",
   "execution_count": 1,
   "id": "b51cc0fd",
   "metadata": {},
   "outputs": [],
   "source": [
    "import cv2\n",
    "import numpy as np\n",
    "from tqdm import tqdm\n",
    "import matplotlib.pyplot as plt\n",
    "import multiprocessing\n",
    "import ce_module as ce \n",
    "import os \n",
    "import glob"
   ]
  },
  {
   "cell_type": "code",
   "execution_count": 2,
   "id": "11efb037",
   "metadata": {},
   "outputs": [],
   "source": [
    "behav_cam_directory = r'D:\\\\JJM\\\\OpenFieldData\\\\06212023\\\\CC02558091\\\\_1\\\\'\n",
    "file_ends_with = '_winvideo_c922 Pro Stream Webcam_3.avi'"
   ]
  },
  {
   "cell_type": "code",
   "execution_count": 3,
   "id": "fd5950ff",
   "metadata": {},
   "outputs": [],
   "source": [
    "file_list = [behav_cam_directory+f for f in os.listdir(behav_cam_directory) if f.endswith(file_ends_with)]"
   ]
  },
  {
   "cell_type": "code",
   "execution_count": 4,
   "id": "0bf65ff2",
   "metadata": {
    "scrolled": false
   },
   "outputs": [
    {
     "ename": "NameError",
     "evalue": "name 'disp' is not defined",
     "output_type": "error",
     "traceback": [
      "\u001b[1;31m---------------------------------------------------------------------------\u001b[0m",
      "\u001b[1;31mNameError\u001b[0m                                 Traceback (most recent call last)",
      "Cell \u001b[1;32mIn[4], line 2\u001b[0m\n\u001b[0;32m      1\u001b[0m \u001b[38;5;28;01mfor\u001b[39;00m path_to_movie \u001b[38;5;129;01min\u001b[39;00m file_list:\n\u001b[1;32m----> 2\u001b[0m     \u001b[43mdisp\u001b[49m(\u001b[38;5;124m'\u001b[39m\u001b[38;5;124mloading and converting movie to grayscale\u001b[39m\u001b[38;5;124m'\u001b[39m)\n\u001b[0;32m      3\u001b[0m     grayscale_frames \u001b[38;5;241m=\u001b[39m ce\u001b[38;5;241m.\u001b[39mload_and_convert_movie(path_to_movie)\n\u001b[0;32m      4\u001b[0m     plt\u001b[38;5;241m.\u001b[39mimshow(grayscale_frames[\u001b[38;5;241m2\u001b[39m], cmap\u001b[38;5;241m=\u001b[39m\u001b[38;5;124m'\u001b[39m\u001b[38;5;124mgray\u001b[39m\u001b[38;5;124m'\u001b[39m)\n",
      "\u001b[1;31mNameError\u001b[0m: name 'disp' is not defined"
     ]
    }
   ],
   "source": [
    "for path_to_movie in file_list:\n",
    "    print('loading and converting movie to grayscale')\n",
    "    grayscale_frames = ce.load_and_convert_movie(path_to_movie)\n",
    "    plt.imshow(grayscale_frames[2], cmap='gray')\n",
    "    plt.show()\n",
    "\n",
    "    print('saving results')\n",
    "    normalized_results = ce.save_grayscale_movie(grayscale_frames, path_to_movie)\n",
    "\n",
    "\n",
    "    print('enhancing contrast')\n",
    "    ce_frames_hist  = ce.auto_contrast_adjustment_eqhist(grayscale_frames)\n",
    "\n",
    "    print('saving results')\n",
    "    normalized_frames = ce.save_contrast_enhanced_movie(ce_frames_hist, path_to_movie)"
   ]
  },
  {
   "cell_type": "code",
   "execution_count": null,
   "id": "2d461778",
   "metadata": {},
   "outputs": [],
   "source": []
  }
 ],
 "metadata": {
  "kernelspec": {
   "display_name": "opencv",
   "language": "python",
   "name": "opencv"
  },
  "language_info": {
   "codemirror_mode": {
    "name": "ipython",
    "version": 3
   },
   "file_extension": ".py",
   "mimetype": "text/x-python",
   "name": "python",
   "nbconvert_exporter": "python",
   "pygments_lexer": "ipython3",
   "version": "3.10.9"
  }
 },
 "nbformat": 4,
 "nbformat_minor": 5
}
