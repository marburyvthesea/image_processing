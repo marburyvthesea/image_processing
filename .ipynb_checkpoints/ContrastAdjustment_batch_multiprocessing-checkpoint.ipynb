{
 "cells": [
  {
   "cell_type": "code",
   "execution_count": 54,
   "id": "b51cc0fd",
   "metadata": {},
   "outputs": [],
   "source": [
    "import cv2\n",
    "import numpy as np\n",
    "from tqdm import tqdm\n",
    "import matplotlib.pyplot as plt\n",
    "import multiprocessing\n",
    "import ce_module as ce \n",
    "import os \n",
    "import glob"
   ]
  },
  {
   "cell_type": "code",
   "execution_count": 55,
   "id": "7846c6ef",
   "metadata": {},
   "outputs": [],
   "source": [
    "def process_movie(path_to_movie):\n",
    "    disp('loading and converting movie to grayscale')\n",
    "    grayscale_frames = ce.load_and_convert_movie(path_to_movie)\n",
    "    plt.imshow(grayscale_frames[2], cmap='gray')\n",
    "    plt.show()\n",
    "\n",
    "    disp('saving results')\n",
    "    normalized_results = ce.save_grayscale_movie(grayscale_frames, path_to_movie)\n",
    "\n",
    "    disp('enhancing contrast')\n",
    "    ce_frames_hist  = ce.auto_contrast_adjustment_eqhist(grayscale_frames)\n",
    "\n",
    "    disp('saving results')\n",
    "    normalized_frames = ce.save_contrast_enhanced_movie(ce_frames_hist, path_to_movie)\n"
   ]
  },
  {
   "cell_type": "code",
   "execution_count": 56,
   "id": "8196b32a",
   "metadata": {},
   "outputs": [],
   "source": [
    "behav_cam_directory = r'D:\\\\JJM\\\\OpenFieldData\\\\06212023\\\\CC02558091\\\\_1\\\\'\n",
    "file_ends_with = '_winvideo_c922 Pro Stream Webcam_3.avi'"
   ]
  },
  {
   "cell_type": "code",
   "execution_count": 57,
   "id": "fd5950ff",
   "metadata": {},
   "outputs": [],
   "source": [
    "file_list = [behav_cam_directory+f for f in os.listdir(behav_cam_directory) if f.endswith(file_ends_with)]"
   ]
  },
  {
   "cell_type": "code",
   "execution_count": null,
   "id": "6980ed99",
   "metadata": {},
   "outputs": [],
   "source": [
    "if __name__ == '__main__':\n",
    "    file_list = file_list  # List of file paths obtained using glob\n",
    "\n",
    "    # Create a multiprocessing pool with the desired number of processes\n",
    "    pool = multiprocessing.Pool(processes=4)  # Adjust the number of processes as needed\n",
    "\n",
    "    # Map the process_movie function to the file_list\n",
    "    pool.map(process_movie, file_list)\n",
    "\n",
    "    # Close the pool and wait for all processes to finish\n",
    "    pool.close()\n",
    "    pool.join()"
   ]
  },
  {
   "cell_type": "code",
   "execution_count": 13,
   "id": "0bf65ff2",
   "metadata": {
    "scrolled": false
   },
   "outputs": [
    {
     "name": "stderr",
     "output_type": "stream",
     "text": [
      "Saving Movie: 100%|████████████████████████████████████████████████████████████| 6965/6965 [00:52<00:00, 132.23frame/s]\n"
     ]
    },
    {
     "name": "stdout",
     "output_type": "stream",
     "text": [
      "Contrast-enhanced movie (grayscale, XVID compression) saved as: D:\\JJM\\OpenFieldData\\06212023\\CC02558091\\_1\\20230621-15-26-28_1_winvideo_c922_Pro_Stream_Webcam_3_python_ce_grayscale.mp4\n"
     ]
    }
   ],
   "source": [
    "for path_to_movie in file_list:\n",
    "    disp('loading and converting movie to grayscale')\n",
    "    grayscale_frames = ce.load_and_convert_movie(path_to_movie)\n",
    "    plt.imshow(grayscale_frames[2], cmap='gray')\n",
    "    plt.show()\n",
    "\n",
    "    disp('saving results')\n",
    "    normalized_results = ce.save_grayscale_movie(grayscale_frames, path_to_movie)\n",
    "\n",
    "\n",
    "    disp('enhancing contrast')\n",
    "    ce_frames_hist  = ce.auto_contrast_adjustment_eqhist(grayscale_frames)\n",
    "\n",
    "    disp('saving results')\n",
    "    normalized_frames = ce.save_contrast_enhanced_movie(ce_frames_hist, path_to_movie)"
   ]
  },
  {
   "cell_type": "code",
   "execution_count": null,
   "id": "2d461778",
   "metadata": {},
   "outputs": [],
   "source": []
  }
 ],
 "metadata": {
  "kernelspec": {
   "display_name": "opencv",
   "language": "python",
   "name": "opencv"
  },
  "language_info": {
   "codemirror_mode": {
    "name": "ipython",
    "version": 3
   },
   "file_extension": ".py",
   "mimetype": "text/x-python",
   "name": "python",
   "nbconvert_exporter": "python",
   "pygments_lexer": "ipython3",
   "version": "3.10.9"
  }
 },
 "nbformat": 4,
 "nbformat_minor": 5
}
